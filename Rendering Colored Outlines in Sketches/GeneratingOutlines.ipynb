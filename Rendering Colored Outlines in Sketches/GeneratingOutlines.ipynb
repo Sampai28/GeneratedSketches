{
  "nbformat": 4,
  "nbformat_minor": 0,
  "metadata": {
    "colab": {
      "name": "GeneratingOutlines.ipynb",
      "provenance": []
    },
    "kernelspec": {
      "name": "python3",
      "display_name": "Python 3"
    },
    "language_info": {
      "name": "python"
    }
  },
  "cells": [
    {
      "cell_type": "code",
      "metadata": {
        "id": "pTH6teUfjIcA"
      },
      "source": [
        "import cv2 as cv\n",
        "import numpy as np\n",
        "import math\n",
        "import sys\n",
        "import os\n",
        "from sklearn.cluster import KMeans\n",
        "import matplotlib.pyplot as plt\n",
        "from tqdm import tqdm"
      ],
      "execution_count": null,
      "outputs": []
    },
    {
      "cell_type": "code",
      "metadata": {
        "colab": {
          "base_uri": "https://localhost:8080/"
        },
        "id": "_WF6xoV4kObu",
        "outputId": "de63fef5-3e54-4cde-afaf-79a1d2441798"
      },
      "source": [
        "from google.colab import drive\n",
        "drive.mount('/content/drive')"
      ],
      "execution_count": null,
      "outputs": [
        {
          "output_type": "stream",
          "text": [
            "Mounted at /content/drive\n"
          ],
          "name": "stdout"
        }
      ]
    },
    {
      "cell_type": "code",
      "metadata": {
        "id": "ro1Zhp2ckQQk"
      },
      "source": [
        "path = '/content/drive/MyDrive/ForAllOneK'\n",
        "kmeans_path = os.path.join(path, 'Original', 'kmeans')\n",
        "sketch_outline_path = os.path.join(path, 'Sketch-Rendered','sketch-rendered')"
      ],
      "execution_count": null,
      "outputs": []
    },
    {
      "cell_type": "code",
      "metadata": {
        "colab": {
          "base_uri": "https://localhost:8080/",
          "height": 35
        },
        "id": "iicD50CgktP1",
        "outputId": "bcbb564a-9c4f-4480-f5bc-d154fe2d3fc1"
      },
      "source": [
        "sketch_list = ['width-1', 'width-3', 'width-5']\n",
        "\"\"\"for f in sketch_list:\n",
        "  if not os.path.isdir(os.path.join(sketch_outline_path, f, 'processed')):\n",
        "    os.mkdir(os.path.join(sketch_outline_path, f, 'processed'))\"\"\""
      ],
      "execution_count": null,
      "outputs": [
        {
          "output_type": "execute_result",
          "data": {
            "application/vnd.google.colaboratory.intrinsic+json": {
              "type": "string"
            },
            "text/plain": [
              "\"for f in sketch_list:\\n  if not os.path.isdir(os.path.join(sketch_outline_path, f, 'processed')):\\n    os.mkdir(os.path.join(sketch_outline_path, f, 'processed'))\""
            ]
          },
          "metadata": {
            "tags": []
          },
          "execution_count": 16
        }
      ]
    },
    {
      "cell_type": "code",
      "metadata": {
        "id": "SwI2gzDMoqV_"
      },
      "source": [
        "def MASKING(image_kmean, image_outline):\n",
        "  l1,b1,_ = image_kmean.shape \n",
        "  l2,b2,_ = image_outline.shape\n",
        "  l = min(l1,l2)\n",
        "  b = min(b1,b2)\n",
        "  image_kmean = image_kmean[:l, :b, :]\n",
        "  image_outline = image_outline[:l, :b, :]\n",
        "  gray_outline = cv.cvtColor(image_outline, cv.COLOR_BGR2GRAY)\n",
        "  _, mask = cv.threshold(gray_outline, 200, 255, cv.THRESH_BINARY)\n",
        "  inv_mask = cv.bitwise_not(mask)\n",
        "  white_bg = np.zeros(image_kmean.shape, np.uint8)\n",
        "  white_bg.fill(255)\n",
        "  colored_outline_on_black = cv.bitwise_or(image_kmean, image_kmean, mask=inv_mask)\n",
        "  img1=white_bg.copy()\n",
        "  img2=colored_outline_on_black.copy()\n",
        "  img_2_shape = img2.shape\n",
        "  roi = img1[0:img_2_shape[0],0:img_2_shape[1]]\n",
        "  img2gray = cv.cvtColor(img2,cv.COLOR_BGR2GRAY)\n",
        "  ret, mask = cv.threshold(img2gray, 10, 255, cv.THRESH_BINARY)\n",
        "  mask_inv = cv.bitwise_not(mask)\n",
        "\n",
        "  img1_bg = cv.bitwise_and(roi,roi,mask = mask_inv)\n",
        "  img2_fg = cv.bitwise_and(img2,img2,mask = mask)\n",
        "  dst = cv.add(img1_bg,img2_fg)\n",
        "  img1[0:img_2_shape[0], 0:img_2_shape[1]] = dst\n",
        "  colored_outline_on_white = img1.copy()\n",
        "  return colored_outline_on_black, colored_outline_on_white"
      ],
      "execution_count": null,
      "outputs": []
    },
    {
      "cell_type": "code",
      "metadata": {
        "colab": {
          "base_uri": "https://localhost:8080/"
        },
        "id": "wZE933nNp9YB",
        "outputId": "15e4bb36-5a61-4858-d718-5686da5cf5e6"
      },
      "source": [
        "for img in tqdm(os.listdir(kmeans_path)):\n",
        "  kmeaned_img = cv.imread(os.path.join(kmeans_path, img))\n",
        "  for wid_dir in sketch_list:\n",
        "    for i in range(1,6):\n",
        "      sketch_file_name = str(img.split('.')[0])+'_0'+str(i)+'.png'\n",
        "      sketch_img = cv.imread(os.path.join(sketch_outline_path, wid_dir, sketch_file_name))\n",
        "      try:\n",
        "        b, w = MASKING(kmeaned_img, sketch_img)\n",
        "      except:\n",
        "        print(os.path.join(path, wid_dir, sketch_file_name))\n",
        "        print(os.path.join(k_path, img))\n",
        "        exit()\n",
        "      save_file_path = os.path.join(sketch_outline_path, wid_dir, 'processed')\n",
        "      if not os.path.isdir(os.path.join(save_file_path, \"black\")):\n",
        "        os.mkdir(os.path.join(save_file_path, \"black\"))\n",
        "      if not os.path.isdir(os.path.join(save_file_path, \"white\")):\n",
        "        os.mkdir(os.path.join(save_file_path, \"white\"))\n",
        "      w_save_file_path = os.path.join(save_file_path, \"white\")\n",
        "      b_save_file_path = os.path.join(save_file_path, \"black\")\n",
        "      w_processed_file_path = os.path.join(w_save_file_path, sketch_file_name.split('.')[0])\n",
        "      b_processed_file_path = os.path.join(b_save_file_path, sketch_file_name.split('.')[0])\n",
        "      cv.imwrite(b_processed_file_path+'.png', b)\n",
        "      cv.imwrite(w_processed_file_path+'.png', w)\n"
      ],
      "execution_count": null,
      "outputs": [
        {
          "output_type": "stream",
          "text": [
            "100%|██████████| 1000/1000 [1:02:50<00:00,  3.77s/it]\n"
          ],
          "name": "stderr"
        }
      ]
    },
    {
      "cell_type": "code",
      "metadata": {
        "id": "tM4B40Vvrxb1"
      },
      "source": [
        ""
      ],
      "execution_count": null,
      "outputs": []
    }
  ]
}