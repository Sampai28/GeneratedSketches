{
 "cells": [
  {
   "cell_type": "code",
   "execution_count": null,
   "metadata": {
    "id": "svLTe9BbVpF_"
   },
   "outputs": [],
   "source": [
    "import cv2 as cv\n",
    "import numpy as np\n",
    "import math\n",
    "import sys\n",
    "import os\n",
    "from sklearn.cluster import KMeans\n",
    "import matplotlib.pyplot as plt\n",
    "from tqdm import tqdm\n",
    "import pandas as pd\n",
    "from sklearn.model_selection import train_test_split"
   ]
  },
  {
   "cell_type": "code",
   "execution_count": null,
   "metadata": {
    "colab": {
     "base_uri": "https://localhost:8080/"
    },
    "id": "c-vuxLfyVxJZ",
    "outputId": "3346e476-3321-4038-a356-a6a7595d27a6"
   },
   "outputs": [
    {
     "name": "stdout",
     "output_type": "stream",
     "text": [
      "Mounted at /content/drive\n"
     ]
    }
   ],
   "source": [
    "from google.colab import drive\n",
    "drive.mount('/content/drive')"
   ]
  },
  {
   "cell_type": "code",
   "execution_count": null,
   "metadata": {
    "id": "He3_jSCFWIwj"
   },
   "outputs": [],
   "source": [
    "#cost is a csv with file_name, cost\n",
    "#cost contains the inertia at k = 64 for all images\n",
    "#here we find the mean, median, mode for the cost obtained\n",
    "data = pd.read_csv('cost.csv')\n",
    "thresh_vals = data.describe()['cost']\n",
    "thresh_vals = thresh_vals.to_dict()\n",
    "thresh_vals['median'] = data.median()[0]\n",
    "thresh_vals['mode']= 3*data.median()[0] - 2*data.mean()[0]\n",
    "\n"
   ]
  },
  {
   "cell_type": "code",
   "execution_count": null,
   "metadata": {
    "id": "Dxw8-3tVrKzY"
   },
   "outputs": [],
   "source": [
    "#this function takes in the images and number of clusters as arguments and returns the inertia\n",
    "def KMEANS(image, n_clusters):\n",
    "    X = image.reshape(-1, 3)\n",
    "    X = X/255.0\n",
    "    km = KMeans(n_clusters=n_clusters)\n",
    "    km.fit(X)\n",
    "    return km.inertia_"
   ]
  },
  {
   "cell_type": "code",
   "execution_count": null,
   "metadata": {},
   "outputs": [],
   "source": [
    "path = '/content/drive/MyDrive/ForAllOneK/Original'\n",
    "#initially CostAs100 is a csv file with columns file_name, k_val, cost_val\n",
    "#file_name contains the names of the images\n",
    "#k_val intially contains -1\n",
    "#cost_val intially contains -1.0\n",
    "thresh_path = os.path.join(path, 'CostAs100.csv')\n",
    "df = pd.read_csv(thresh_path)\n",
    "experiment_cost = 100"
   ]
  },
  {
   "cell_type": "code",
   "execution_count": null,
   "metadata": {
    "colab": {
     "base_uri": "https://localhost:8080/"
    },
    "id": "Ezk0_IiirUGG",
    "outputId": "7de40591-1498-4a77-b7d7-57064540fbc4"
   },
   "outputs": [
    {
     "name": "stderr",
     "output_type": "stream",
     "text": [
      "100%|██████████| 1000/1000 [1:06:32<00:00,  3.99s/it] \n"
     ]
    }
   ],
   "source": [
    "f = pd.read_csv(os.path.join(path, 'CostAs100.csv'))\n",
    "for f in tqdm(df['file_name']):\n",
    "    df = pd.read_csv(os.path.join(path, 'CostAs100.csv'))\n",
    "    if not f.endswith('.jpg'):\n",
    "        continue\n",
    "    if os.path.isdir(os.path.join(path, f)):\n",
    "        continue\n",
    "   \n",
    "    if int(df[df['file_name']==f]['k_val']) == -1:\n",
    "        img = cv.imread(os.path.join(path,f))\n",
    "        image_g = cv.GaussianBlur(img,(5,5),0)\n",
    "        image_g = cv.GaussianBlur(image_g, (5,5), 0)\n",
    "        image_g = cv.GaussianBlur(image_g, (5,5), 0)\n",
    "        for k in range(10,1000,5):\n",
    "            cost_val = KMEANS(image_g, k)\n",
    "            if cost_val<=experiment_cost:\n",
    "                break\n",
    "        df.loc[df.file_name == f, 'k_val'] = k\n",
    "        df.loc[df.file_name == f, 'cost_val'] = cost_val\n",
    "        \n",
    "        df.to_csv(os.path.join(path,'CostAs100.csv'), index = False)\n",
    "    else:\n",
    "        continue"
   ]
  },
  {
   "cell_type": "code",
   "execution_count": null,
   "metadata": {},
   "outputs": [],
   "source": [
    "path = '/content/drive/MyDrive/ForAllOneK/Original'\n",
    "#initially CostAs100 is a csv file with columns file_name, k_val, cost_val\n",
    "#file_name contains the names of the images\n",
    "#k_val intially contains -1\n",
    "#cost_val intially contains -1.0\n",
    "thresh_path = os.path.join(path, 'CostAs50.csv')\n",
    "df = pd.read_csv(thresh_path)\n",
    "experiment_cost=50"
   ]
  },
  {
   "cell_type": "code",
   "execution_count": null,
   "metadata": {},
   "outputs": [],
   "source": [
    "f = pd.read_csv(os.path.join(path, 'CostAs50.csv'))\n",
    "for f in tqdm(df['file_name']):\n",
    "    df = pd.read_csv(os.path.join(path, 'CostAs50.csv'))\n",
    "    if not f.endswith('.jpg'):\n",
    "        continue\n",
    "    if os.path.isdir(os.path.join(path, f)):\n",
    "        continue\n",
    "   \n",
    "    if int(df[df['file_name']==f]['k_val']) == -1:\n",
    "        img = cv.imread(os.path.join(path,f))\n",
    "        image_g = cv.GaussianBlur(img,(5,5),0)\n",
    "        image_g = cv.GaussianBlur(image_g, (5,5), 0)\n",
    "        image_g = cv.GaussianBlur(image_g, (5,5), 0)\n",
    "        for k in range(10,1000,5):\n",
    "            cost_val = KMEANS(image_g, k)\n",
    "            if cost_val<=experiment_cost:\n",
    "                break\n",
    "        df.loc[df.file_name == f, 'k_val'] = k\n",
    "        df.loc[df.file_name == f, 'cost_val'] = cost_val\n",
    "    \n",
    "        df.to_csv(os.path.join(path,'CostAs50.csv'), index = False)\n",
    "    else:\n",
    "        continue"
   ]
  },
  {
   "cell_type": "code",
   "execution_count": null,
   "metadata": {},
   "outputs": [],
   "source": [
    "path = '/content/drive/MyDrive/ForAllOneK/Original'\n",
    "#initially CostAs100 is a csv file with columns file_name, k_val, cost_val\n",
    "#file_name contains the names of the images\n",
    "#k_val intially contains -1\n",
    "#cost_val intially contains -1.0\n",
    "thresh_path = os.path.join(path, 'CostAsMean.csv')\n",
    "df = pd.read_csv(thresh_path)\n",
    "experiment_cost=data.mean()"
   ]
  },
  {
   "cell_type": "code",
   "execution_count": null,
   "metadata": {},
   "outputs": [],
   "source": [
    "f = pd.read_csv(os.path.join(path, 'CostAsMean.csv'))\n",
    "for f in tqdm(df['file_name']):\n",
    "    df = pd.read_csv(os.path.join(path, 'CostAsMean.csv'))\n",
    "    if not f.endswith('.jpg'):\n",
    "        continue\n",
    "    if os.path.isdir(os.path.join(path, f)):\n",
    "        continue\n",
    "   \n",
    "    if int(df[df['file_name']==f]['k_val']) == -1:\n",
    "        img = cv.imread(os.path.join(path,f))\n",
    "        image_g = cv.GaussianBlur(img,(5,5),0)\n",
    "        image_g = cv.GaussianBlur(image_g, (5,5), 0)\n",
    "        image_g = cv.GaussianBlur(image_g, (5,5), 0)\n",
    "        for k in range(10,1000,5):\n",
    "            cost_val = KMEANS(image_g, k)\n",
    "            if cost_val<=experiment_cost:\n",
    "                break\n",
    "        df.loc[df.file_name == f, 'k_val'] = k\n",
    "        df.loc[df.file_name == f, 'cost_val'] = cost_val\n",
    "        \n",
    "        df.to_csv(os.path.join(path,'CostAsMean.csv'), index = False)\n",
    "    else:\n",
    "        continue"
   ]
  }
 ],
 "metadata": {
  "colab": {
   "collapsed_sections": [],
   "name": "TryingDifferentThresholdValues",
   "provenance": []
  },
  "kernelspec": {
   "display_name": "Python 3",
   "language": "python",
   "name": "python3"
  },
  "language_info": {
   "codemirror_mode": {
    "name": "ipython",
    "version": 3
   },
   "file_extension": ".py",
   "mimetype": "text/x-python",
   "name": "python",
   "nbconvert_exporter": "python",
   "pygments_lexer": "ipython3",
   "version": "3.8.10"
  }
 },
 "nbformat": 4,
 "nbformat_minor": 1
}
