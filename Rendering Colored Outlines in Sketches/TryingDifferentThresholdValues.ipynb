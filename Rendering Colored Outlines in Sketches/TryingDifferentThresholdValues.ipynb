{
  "nbformat": 4,
  "nbformat_minor": 0,
  "metadata": {
    "colab": {
      "name": "TryingDifferentThresholdValues",
      "provenance": [],
      "collapsed_sections": []
    },
    "kernelspec": {
      "name": "python3",
      "display_name": "Python 3"
    },
    "language_info": {
      "name": "python"
    }
  },
  "cells": [
    {
      "cell_type": "code",
      "metadata": {
        "id": "svLTe9BbVpF_"
      },
      "source": [
        "import cv2 as cv\n",
        "import numpy as np\n",
        "import math\n",
        "import sys\n",
        "import os\n",
        "from sklearn.cluster import KMeans\n",
        "import matplotlib.pyplot as plt\n",
        "from tqdm import tqdm\n",
        "import pandas as pd\n",
        "from sklearn.model_selection import train_test_split"
      ],
      "execution_count": null,
      "outputs": []
    },
    {
      "cell_type": "code",
      "metadata": {
        "colab": {
          "base_uri": "https://localhost:8080/"
        },
        "id": "c-vuxLfyVxJZ",
        "outputId": "3346e476-3321-4038-a356-a6a7595d27a6"
      },
      "source": [
        "from google.colab import drive\n",
        "drive.mount('/content/drive')"
      ],
      "execution_count": null,
      "outputs": [
        {
          "output_type": "stream",
          "text": [
            "Mounted at /content/drive\n"
          ],
          "name": "stdout"
        }
      ]
    },
    {
      "cell_type": "code",
      "metadata": {
        "id": "1HFMLaWcV0v0"
      },
      "source": [
        "path = '/content/drive/MyDrive/ForAllOneK/Original'\n",
        "thresh_path = os.path.join(path, 'CostAs100.csv')\n",
        "df = pd.read_csv(thresh_path)"
      ],
      "execution_count": null,
      "outputs": []
    },
    {
      "cell_type": "code",
      "metadata": {
        "id": "He3_jSCFWIwj"
      },
      "source": [
        "\"\"\"thresh_vals = data.describe()['cost']\n",
        "thresh_vals = thresh_vals.to_dict()\n",
        "thresh_vals['median'] = data.median()[0]\n",
        "thresh_vals['mode']= 3*data.median()[0] - 2*data.mean()[0]\n",
        "thresh_vals.pop('count')\"\"\"\n",
        "\n",
        "expeiment_cost = 100"
      ],
      "execution_count": null,
      "outputs": []
    },
    {
      "cell_type": "code",
      "metadata": {
        "id": "DQ88qV9ZWisx",
        "colab": {
          "base_uri": "https://localhost:8080/"
        },
        "outputId": "c371b65e-32db-4f83-ea16-9a6248cd0913"
      },
      "source": [
        "\"\"\"file_name = []\n",
        "for f in tqdm(os.listdir(path)):\n",
        "    if not f.endswith('.jpg'):\n",
        "        continue\n",
        "    if os.path.isdir(os.path.join(path, f)):\n",
        "        continue\n",
        "    file_name.append(f)\n",
        "df = pd.DataFrame()\n",
        "df['file_name'] = file_name\n",
        "df['k_val'] = -1\n",
        "df['cost_val'] = -1\n",
        "#df['thresh_val_with_given_k'] = -1\n",
        "df.to_csv(os.path.join(path,'CostAs100.csv'), index = False)\"\"\""
      ],
      "execution_count": null,
      "outputs": [
        {
          "output_type": "stream",
          "text": [
            "\n",
            "  0%|          | 0/1003 [00:00<?, ?it/s]\u001b[A\n",
            " 50%|█████     | 503/1003 [00:00<00:00, 5022.89it/s]\u001b[A\n",
            "100%|██████████| 1003/1003 [00:00<00:00, 4360.13it/s]\n"
          ],
          "name": "stderr"
        }
      ]
    },
    {
      "cell_type": "code",
      "metadata": {
        "id": "Dxw8-3tVrKzY"
      },
      "source": [
        "def KMEANS(image, n_clusters):\n",
        "    X = image.reshape(-1, 3)\n",
        "    X = X/255.0\n",
        "    km = KMeans(n_clusters=n_clusters)\n",
        "    km.fit(X)\n",
        "    return km.inertia_"
      ],
      "execution_count": null,
      "outputs": []
    },
    {
      "cell_type": "code",
      "metadata": {
        "id": "Dtj-l8RprRwP"
      },
      "source": [
        "\"\"\"MEAN = thresh_vals['mean']\n",
        "MEAN\"\"\""
      ],
      "execution_count": null,
      "outputs": []
    },
    {
      "cell_type": "code",
      "metadata": {
        "id": "Ezk0_IiirUGG",
        "colab": {
          "base_uri": "https://localhost:8080/"
        },
        "outputId": "7de40591-1498-4a77-b7d7-57064540fbc4"
      },
      "source": [
        "df = pd.read_csv(os.path.join(path, 'CostAs100.csv'))\n",
        "for f in tqdm(df['file_name']):\n",
        "    df = pd.read_csv(os.path.join(path, 'CostAs100.csv'))\n",
        "    if not f.endswith('.jpg'):\n",
        "        continue\n",
        "    if os.path.isdir(os.path.join(path, f)):\n",
        "        continue\n",
        "    #print(df[df['file_name']==f]['k_val'])\n",
        "    #print(f)\n",
        "    if int(df[df['file_name']==f]['k_val']) == -1:\n",
        "        k_val_start = int(thresh_data[thresh_data['file_name']==f]['k_val'])\n",
        "        cost_val_start = float(thresh_data[thresh_data['file_name']==f]['cost_val'])\n",
        "        #if int(thresh_data[thresh_data['file_name']==f]['cost_val'])<=expeiment_cost:\n",
        "        img = cv.imread(os.path.join(path,f))\n",
        "        image_g = cv.GaussianBlur(img,(5,5),0)\n",
        "        image_g = cv.GaussianBlur(image_g, (5,5), 0)\n",
        "        image_g = cv.GaussianBlur(image_g, (5,5), 0)\n",
        "        while k_val_start>0 and cost_val_start<expeiment_cost:\n",
        "          df.loc[df.file_name == f, 'k_val'] = k_val_start\n",
        "          df.loc[df.file_name == f, 'cost_val'] = cost_val_start\n",
        "          df.to_csv(os.path.join(path,'CostAs100.csv'), index = False)\n",
        "          k_val_start-=5\n",
        "          \n",
        "          #for k in range(10,300,5):\n",
        "          cost_val_start = KMEANS(image_g, k_val_start)\n",
        "        #df.loc[df.file_name == f, 'k_val'] = k\n",
        "        #df.loc[df.file_name == f, 'cost_val'] = cost_val\n",
        "        #print(f,k,cost_val)\n",
        "        #df.loc[df.file_name == f, 'thresh_val_with_given_k'] = cost_val\n",
        "        #df.to_csv(os.path.join(path,'CostAs100.csv'), index = False)\n",
        "    else:\n",
        "        continue"
      ],
      "execution_count": null,
      "outputs": [
        {
          "output_type": "stream",
          "text": [
            "100%|██████████| 1000/1000 [1:06:32<00:00,  3.99s/it] \n"
          ],
          "name": "stderr"
        }
      ]
    }
  ]
}