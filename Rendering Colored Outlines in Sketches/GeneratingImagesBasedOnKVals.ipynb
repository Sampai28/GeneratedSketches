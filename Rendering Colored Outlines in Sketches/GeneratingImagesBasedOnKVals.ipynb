{
  "nbformat": 4,
  "nbformat_minor": 0,
  "metadata": {
    "colab": {
      "name": "GeneratingImagesBasedOnKVals.ipynb",
      "provenance": []
    },
    "kernelspec": {
      "name": "python3",
      "display_name": "Python 3"
    },
    "language_info": {
      "name": "python"
    }
  },
  "cells": [
    {
      "cell_type": "code",
      "metadata": {
        "id": "KEF4GPpp-VEW"
      },
      "source": [
        "import pandas as pd\n",
        "import numpy as np\n",
        "from sklearn.cluster import KMeans\n",
        "import cv2 as cv\n",
        "import os\n",
        "from tqdm import tqdm"
      ],
      "execution_count": null,
      "outputs": []
    },
    {
      "cell_type": "code",
      "metadata": {
        "colab": {
          "base_uri": "https://localhost:8080/"
        },
        "id": "0_9to1Xj-9pt",
        "outputId": "312b80af-cce2-4257-ea73-1d3adff4cee4"
      },
      "source": [
        "from google.colab import drive\n",
        "drive.mount('/content/drive')"
      ],
      "execution_count": null,
      "outputs": [
        {
          "output_type": "stream",
          "text": [
            "Mounted at /content/drive\n"
          ],
          "name": "stdout"
        }
      ]
    },
    {
      "cell_type": "code",
      "metadata": {
        "id": "r_dEvWum_N_a"
      },
      "source": [
        "path = '/content/drive/MyDrive/ForAllOneK/Original'"
      ],
      "execution_count": null,
      "outputs": []
    },
    {
      "cell_type": "code",
      "metadata": {
        "id": "sjqm92AL_frX"
      },
      "source": [
        "if not os.path.isdir(os.path.join(path, 'kmeans')):\n",
        "  os.mkdir(os.path.join(path, 'kmeans'))\n",
        "kmeans_path = os.path.join(path, 'kmeans') "
      ],
      "execution_count": null,
      "outputs": []
    },
    {
      "cell_type": "code",
      "metadata": {
        "id": "02cWVtCs_kH_"
      },
      "source": [
        "def KMEANS(image, n_clusters):\n",
        "  X = image.reshape(-1, 3)\n",
        "  X = X/255.0\n",
        "  km = KMeans(n_clusters=n_clusters)\n",
        "  km.fit(X)\n",
        "  clusters = km.cluster_centers_\n",
        "  clusters = clusters[km.labels_]\n",
        "  image_seg = clusters.reshape(image.shape)\n",
        "  return image_seg"
      ],
      "execution_count": null,
      "outputs": []
    },
    {
      "cell_type": "code",
      "metadata": {
        "colab": {
          "base_uri": "https://localhost:8080/"
        },
        "id": "g5DprM5UAX36",
        "outputId": "614178a3-a6bd-4fe1-fcf0-36fbcbe28644"
      },
      "source": [
        "data = pd.read_csv(os.path.join(path,'FinalKThresh2.csv'))\n",
        "data.count()"
      ],
      "execution_count": null,
      "outputs": [
        {
          "output_type": "execute_result",
          "data": {
            "text/plain": [
              "file_name    1000\n",
              "k_val        1000\n",
              "cost_val     1000\n",
              "dtype: int64"
            ]
          },
          "metadata": {
            "tags": []
          },
          "execution_count": 6
        }
      ]
    },
    {
      "cell_type": "code",
      "metadata": {
        "colab": {
          "base_uri": "https://localhost:8080/"
        },
        "id": "C-dnRm8_AxJT",
        "outputId": "0b784a31-a2ef-4ffb-82a4-04091a570d61"
      },
      "source": [
        "data.iloc"
      ],
      "execution_count": null,
      "outputs": [
        {
          "output_type": "execute_result",
          "data": {
            "text/plain": [
              "<pandas.core.indexing._iLocIndexer at 0x7fa9d97e2d70>"
            ]
          },
          "metadata": {
            "tags": []
          },
          "execution_count": 7
        }
      ]
    },
    {
      "cell_type": "code",
      "metadata": {
        "id": "jhfbRrsUA-7B"
      },
      "source": [
        "for file_name, k_val, cost_val in data.iloc:\n",
        "  if os.path.isdir(os.path.join(kmeans_path, file_name)):\n",
        "    continue\n",
        "  if os.path.isfile(os.path.join(kmeans_path, file_name)):\n",
        "    continue\n",
        "  if not os.path.isdir(os.path.join(kmeans_path, file_name)):\n",
        "    image = cv.imread(os.path.join(path,file_name))\n",
        "    image_g = cv.GaussianBlur(image,(5,5),0)\n",
        "    image_g = cv.GaussianBlur(image_g, (5,5), 0)\n",
        "    image_g = cv.GaussianBlur(image_g, (5,5), 0)\n",
        "    km_img = KMEANS(image_g, k_val)*255.0\n",
        "    cv.imwrite(os.path.join(kmeans_path, file_name), km_img)\n",
        "    print(file_name,\"with K_val\",k_val, \"saved in kmeans_path\")"
      ],
      "execution_count": null,
      "outputs": []
    },
    {
      "cell_type": "code",
      "metadata": {
        "id": "72Hu5vIFTZF3"
      },
      "source": [
        ""
      ],
      "execution_count": null,
      "outputs": []
    }
  ]
}