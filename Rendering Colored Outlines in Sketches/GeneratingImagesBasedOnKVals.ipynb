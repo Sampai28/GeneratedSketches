{
 "cells": [
  {
   "cell_type": "markdown",
   "metadata": {},
   "source": [
    "After finding the best K values, we generate the color quantized image by applying Gaussian Blur and K-means clustering with the K values."
   ]
  },
  {
   "cell_type": "code",
   "execution_count": null,
   "metadata": {
    "id": "KEF4GPpp-VEW"
   },
   "outputs": [],
   "source": [
    "import pandas as pd\n",
    "import numpy as np\n",
    "from sklearn.cluster import KMeans\n",
    "import cv2 as cv\n",
    "import os\n",
    "from tqdm import tqdm"
   ]
  },
  {
   "cell_type": "code",
   "execution_count": null,
   "metadata": {
    "colab": {
     "base_uri": "https://localhost:8080/"
    },
    "id": "0_9to1Xj-9pt",
    "outputId": "312b80af-cce2-4257-ea73-1d3adff4cee4"
   },
   "outputs": [
    {
     "name": "stdout",
     "output_type": "stream",
     "text": [
      "Mounted at /content/drive\n"
     ]
    }
   ],
   "source": [
    "from google.colab import drive\n",
    "drive.mount('/content/drive')"
   ]
  },
  {
   "cell_type": "code",
   "execution_count": null,
   "metadata": {
    "id": "r_dEvWum_N_a"
   },
   "outputs": [],
   "source": [
    "path = '/content/drive/MyDrive/ForAllOneK/Original'"
   ]
  },
  {
   "cell_type": "code",
   "execution_count": null,
   "metadata": {
    "id": "sjqm92AL_frX"
   },
   "outputs": [],
   "source": [
    "if not os.path.isdir(os.path.join(path, 'kmeans')):\n",
    "  os.mkdir(os.path.join(path, 'kmeans'))\n",
    "kmeans_path = os.path.join(path, 'kmeans') "
   ]
  },
  {
   "cell_type": "code",
   "execution_count": null,
   "metadata": {
    "id": "02cWVtCs_kH_"
   },
   "outputs": [],
   "source": [
    "def KMEANS(image, n_clusters):\n",
    "  X = image.reshape(-1, 3)\n",
    "  X = X/255.0 #bringing the values in the range 0 to 1\n",
    "  km = KMeans(n_clusters=n_clusters) #applying k means with n_clusters as cluster number\n",
    "  km.fit(X)\n",
    "  clusters = km.cluster_centers_\n",
    "  clusters = clusters[km.labels_] #replacing pixel values with their respective centroid value\n",
    "  image_seg = clusters.reshape(image.shape)\n",
    "  return image_seg"
   ]
  },
  {
   "cell_type": "code",
   "execution_count": null,
   "metadata": {
    "colab": {
     "base_uri": "https://localhost:8080/"
    },
    "id": "g5DprM5UAX36",
    "outputId": "614178a3-a6bd-4fe1-fcf0-36fbcbe28644"
   },
   "outputs": [
    {
     "data": {
      "text/plain": [
       "file_name    1000\n",
       "k_val        1000\n",
       "cost_val     1000\n",
       "dtype: int64"
      ]
     },
     "execution_count": 6,
     "metadata": {
      "tags": []
     },
     "output_type": "execute_result"
    }
   ],
   "source": [
    "data = pd.read_csv(os.path.join(path,'FinalKThresh2.csv'))\n",
    "data.count()"
   ]
  },
  {
   "cell_type": "code",
   "execution_count": null,
   "metadata": {
    "id": "jhfbRrsUA-7B"
   },
   "outputs": [],
   "source": [
    "#iterating through the dataframe 'data' having file_name, optimal K, cost_val\n",
    "#apply 3 iterations of Gaussian Blur and then using K means to quantize them\n",
    "for file_name, k_val, cost_val in data.iloc:\n",
    "  if os.path.isdir(os.path.join(kmeans_path, file_name)):\n",
    "    continue\n",
    "  if os.path.isfile(os.path.join(kmeans_path, file_name)):\n",
    "    continue\n",
    "  if not os.path.isdir(os.path.join(kmeans_path, file_name)):\n",
    "    image = cv.imread(os.path.join(path,file_name))\n",
    "    image_g = cv.GaussianBlur(image,(5,5),0)\n",
    "    image_g = cv.GaussianBlur(image_g, (5,5), 0)\n",
    "    image_g = cv.GaussianBlur(image_g, (5,5), 0)\n",
    "    km_img = KMEANS(image_g, k_val)*255.0\n",
    "    cv.imwrite(os.path.join(kmeans_path, file_name), km_img)\n",
    "    print(file_name,\"with K_val\",k_val, \"saved in kmeans_path\")"
   ]
  },
  {
   "cell_type": "code",
   "execution_count": null,
   "metadata": {
    "id": "72Hu5vIFTZF3"
   },
   "outputs": [],
   "source": []
  }
 ],
 "metadata": {
  "colab": {
   "name": "GeneratingImagesBasedOnKVals.ipynb",
   "provenance": []
  },
  "kernelspec": {
   "display_name": "Python 3",
   "language": "python",
   "name": "python3"
  },
  "language_info": {
   "codemirror_mode": {
    "name": "ipython",
    "version": 3
   },
   "file_extension": ".py",
   "mimetype": "text/x-python",
   "name": "python",
   "nbconvert_exporter": "python",
   "pygments_lexer": "ipython3",
   "version": "3.8.10"
  }
 },
 "nbformat": 4,
 "nbformat_minor": 1
}
