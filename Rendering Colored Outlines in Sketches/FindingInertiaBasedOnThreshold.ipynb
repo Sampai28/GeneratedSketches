{
  "nbformat": 4,
  "nbformat_minor": 0,
  "metadata": {
    "accelerator": "GPU",
    "colab": {
      "name": "FindingInertiaBasedOnThreshold.ipynb",
      "provenance": [],
      "collapsed_sections": []
    },
    "kernelspec": {
      "display_name": "Python 3",
      "name": "python3"
    },
    "language_info": {
      "name": "python"
    }
  },
  "cells": [
    {
      "cell_type": "code",
      "metadata": {
        "id": "svLTe9BbVpF_"
      },
      "source": [
        "import cv2 as cv\n",
        "import numpy as np\n",
        "import math\n",
        "import sys\n",
        "import os\n",
        "from sklearn.cluster import KMeans\n",
        "import matplotlib.pyplot as plt\n",
        "from tqdm import tqdm\n",
        "import pandas as pd\n",
        "from sklearn.model_selection import train_test_split"
      ],
      "execution_count": null,
      "outputs": []
    },
    {
      "cell_type": "code",
      "metadata": {
        "colab": {
          "base_uri": "https://localhost:8080/"
        },
        "id": "c-vuxLfyVxJZ",
        "outputId": "b0ce058d-3e31-40dd-a9a6-c52ca4f21947"
      },
      "source": [
        "from google.colab import drive\n",
        "drive.mount('/content/drive')"
      ],
      "execution_count": null,
      "outputs": [
        {
          "output_type": "stream",
          "text": [
            "Drive already mounted at /content/drive; to attempt to forcibly remount, call drive.mount(\"/content/drive\", force_remount=True).\n"
          ],
          "name": "stdout"
        }
      ]
    },
    {
      "cell_type": "code",
      "metadata": {
        "id": "1HFMLaWcV0v0"
      },
      "source": [
        "path = '/content/drive/MyDrive/ForAllOneK/Original'\n",
        "data = pd.read_csv(os.path.join(path, 'cost.csv'))"
      ],
      "execution_count": null,
      "outputs": []
    },
    {
      "cell_type": "code",
      "metadata": {
        "colab": {
          "base_uri": "https://localhost:8080/",
          "height": 204
        },
        "id": "WgVptUneWEn8",
        "outputId": "819b0c01-a920-4f73-bbde-058b08c7a21c"
      },
      "source": [
        "data.head()"
      ],
      "execution_count": null,
      "outputs": [
        {
          "output_type": "execute_result",
          "data": {
            "text/html": [
              "<div>\n",
              "<style scoped>\n",
              "    .dataframe tbody tr th:only-of-type {\n",
              "        vertical-align: middle;\n",
              "    }\n",
              "\n",
              "    .dataframe tbody tr th {\n",
              "        vertical-align: top;\n",
              "    }\n",
              "\n",
              "    .dataframe thead th {\n",
              "        text-align: right;\n",
              "    }\n",
              "</style>\n",
              "<table border=\"1\" class=\"dataframe\">\n",
              "  <thead>\n",
              "    <tr style=\"text-align: right;\">\n",
              "      <th></th>\n",
              "      <th>file_name</th>\n",
              "      <th>cost</th>\n",
              "    </tr>\n",
              "  </thead>\n",
              "  <tbody>\n",
              "    <tr>\n",
              "      <th>0</th>\n",
              "      <td>00000002.jpg</td>\n",
              "      <td>138.969146</td>\n",
              "    </tr>\n",
              "    <tr>\n",
              "      <th>1</th>\n",
              "      <td>00000003.jpg</td>\n",
              "      <td>26.790113</td>\n",
              "    </tr>\n",
              "    <tr>\n",
              "      <th>2</th>\n",
              "      <td>00000005.jpg</td>\n",
              "      <td>39.446019</td>\n",
              "    </tr>\n",
              "    <tr>\n",
              "      <th>3</th>\n",
              "      <td>00000004.jpg</td>\n",
              "      <td>78.709447</td>\n",
              "    </tr>\n",
              "    <tr>\n",
              "      <th>4</th>\n",
              "      <td>00000006.jpg</td>\n",
              "      <td>34.586774</td>\n",
              "    </tr>\n",
              "  </tbody>\n",
              "</table>\n",
              "</div>"
            ],
            "text/plain": [
              "      file_name        cost\n",
              "0  00000002.jpg  138.969146\n",
              "1  00000003.jpg   26.790113\n",
              "2  00000005.jpg   39.446019\n",
              "3  00000004.jpg   78.709447\n",
              "4  00000006.jpg   34.586774"
            ]
          },
          "metadata": {
            "tags": []
          },
          "execution_count": 15
        }
      ]
    },
    {
      "cell_type": "code",
      "metadata": {
        "colab": {
          "base_uri": "https://localhost:8080/"
        },
        "id": "He3_jSCFWIwj",
        "outputId": "95ce3c36-5a9f-4160-ee28-f51d34d9daa1"
      },
      "source": [
        "thresh_vals = data.describe()['cost']\n",
        "thresh_vals = thresh_vals.to_dict()\n",
        "thresh_vals['median'] = data.median()[0]\n",
        "thresh_vals['mode']= 3*data.median()[0] - 2*data.mean()[0]\n",
        "thresh_vals.pop('count')"
      ],
      "execution_count": null,
      "outputs": [
        {
          "output_type": "execute_result",
          "data": {
            "text/plain": [
              "1000.0"
            ]
          },
          "metadata": {
            "tags": []
          },
          "execution_count": 16
        }
      ]
    },
    {
      "cell_type": "code",
      "metadata": {
        "colab": {
          "base_uri": "https://localhost:8080/"
        },
        "id": "DQ88qV9ZWisx",
        "outputId": "2468e267-183a-45d4-cc93-a0acd6201c04"
      },
      "source": [
        "\"\"\"file_name = []\n",
        "for f in tqdm(os.listdir(path)):\n",
        "    if not f.endswith('.jpg'):\n",
        "        continue\n",
        "    if os.path.isdir(os.path.join(path, f)):\n",
        "        continue\n",
        "    file_name.append(f)\n",
        "df = pd.DataFrame()\n",
        "df['file_name'] = file_name\n",
        "df['k_val'] = -1\n",
        "df['cost_val'] = -1\n",
        "#df['thresh_val_with_given_k'] = -1\n",
        "df.to_csv(os.path.join(path,'MeanAsThresh.csv'), index = False)\"\"\""
      ],
      "execution_count": null,
      "outputs": [
        {
          "output_type": "stream",
          "text": [
            "100%|██████████| 1001/1001 [00:00<00:00, 6196.86it/s]\n"
          ],
          "name": "stderr"
        }
      ]
    },
    {
      "cell_type": "code",
      "metadata": {
        "id": "Dxw8-3tVrKzY"
      },
      "source": [
        "def KMEANS(image, n_clusters):\n",
        "    X = image.reshape(-1, 3)\n",
        "    X = X/255.0\n",
        "    km = KMeans(n_clusters=n_clusters)\n",
        "    km.fit(X)\n",
        "    return km.inertia_"
      ],
      "execution_count": null,
      "outputs": []
    },
    {
      "cell_type": "code",
      "metadata": {
        "colab": {
          "base_uri": "https://localhost:8080/"
        },
        "id": "Dtj-l8RprRwP",
        "outputId": "265f8543-ed4e-4318-d9ea-32f2fd6e002c"
      },
      "source": [
        "MEAN = thresh_vals['mean']\n",
        "MEAN"
      ],
      "execution_count": null,
      "outputs": [
        {
          "output_type": "execute_result",
          "data": {
            "text/plain": [
              "67.31697583691374"
            ]
          },
          "metadata": {
            "tags": []
          },
          "execution_count": 18
        }
      ]
    },
    {
      "cell_type": "code",
      "metadata": {
        "id": "Ezk0_IiirUGG",
        "colab": {
          "base_uri": "https://localhost:8080/"
        },
        "outputId": "56318e28-6201-455a-cd4b-e0d432d422a0"
      },
      "source": [
        "#df = pd.read_csv(os.path.join(path, 'data.csv'))\n",
        "for f in tqdm(df['file_name']):\n",
        "    #df = pd.read_csv(os.path.join(path, 'data.csv'))\n",
        "    if not f.endswith('.jpg'):\n",
        "        continue\n",
        "    if os.path.isdir(os.path.join(path, f)):\n",
        "        continue\n",
        "    if int(df[df['file_name']==f]['k_val']) == -1:\n",
        "        img = cv.imread(os.path.join(path,f))\n",
        "        image_g = cv.GaussianBlur(img,(5,5),0)\n",
        "        image_g = cv.GaussianBlur(image_g, (5,5), 0)\n",
        "        image_g = cv.GaussianBlur(image_g, (5,5), 0)\n",
        "        for k in range(10,300,5):\n",
        "            cost_val = KMEANS(image_g, k)\n",
        "            if cost_val<=MEAN:\n",
        "                break\n",
        "        df.loc[df.file_name == f, 'k_val'] = k\n",
        "        df.loc[df.file_name == f, 'cost_val'] = cost_val\n",
        "        #print(f,k,cost_val)\n",
        "        #df.loc[df.file_name == f, 'thresh_val_with_given_k'] = cost_val\n",
        "        #df.to_csv(os.path.join(path,'data.csv'), index = False)\n",
        "    else:\n",
        "        continue"
      ],
      "execution_count": null,
      "outputs": [
        {
          "output_type": "stream",
          "text": [
            "\n",
            "  0%|          | 0/225 [00:00<?, ?it/s]\u001b[A\n",
            " 15%|█▍        | 33/225 [00:00<00:00, 329.75it/s]\u001b[A\n",
            " 28%|██▊       | 63/225 [00:00<00:00, 318.98it/s]\u001b[A\n",
            " 40%|████      | 91/225 [00:00<00:00, 305.85it/s]\u001b[A\n",
            " 52%|█████▏    | 118/225 [00:00<00:00, 293.40it/s]\u001b[A\n",
            " 66%|██████▌   | 148/225 [00:00<00:00, 293.65it/s]\u001b[A\n",
            " 78%|███████▊  | 175/225 [00:00<00:00, 285.28it/s]\u001b[A\n",
            " 78%|███████▊  | 175/225 [00:20<00:00, 285.28it/s]\u001b[A\n",
            " 82%|████████▏ | 185/225 [18:10<21:48, 32.70s/it] \u001b[A\n",
            " 83%|████████▎ | 186/225 [18:16<16:03, 24.69s/it]\u001b[A\n",
            " 83%|████████▎ | 187/225 [18:23<12:18, 19.44s/it]\u001b[A\n",
            " 84%|████████▎ | 188/225 [20:05<27:06, 43.96s/it]\u001b[A\n",
            " 84%|████████▍ | 189/225 [20:10<19:29, 32.49s/it]\u001b[A\n",
            " 84%|████████▍ | 190/225 [20:30<16:38, 28.54s/it]\u001b[A\n",
            " 85%|████████▍ | 191/225 [20:43<13:35, 24.00s/it]\u001b[A\n",
            " 85%|████████▌ | 192/225 [24:40<48:19, 87.87s/it]\u001b[A\n",
            " 86%|████████▌ | 193/225 [24:55<35:09, 65.91s/it]\u001b[A\n",
            " 86%|████████▌ | 194/225 [26:01<34:10, 66.14s/it]\u001b[A\n",
            " 87%|████████▋ | 195/225 [30:35<1:04:12, 128.43s/it]\u001b[A\n",
            " 87%|████████▋ | 196/225 [34:16<1:15:27, 156.12s/it]\u001b[A\n",
            " 88%|████████▊ | 197/225 [34:58<56:59, 122.11s/it]  \u001b[A\n",
            " 88%|████████▊ | 198/225 [35:04<39:15, 87.26s/it] \u001b[A\n",
            " 88%|████████▊ | 199/225 [35:43<31:32, 72.80s/it]\u001b[A\n",
            " 89%|████████▉ | 200/225 [35:56<22:44, 54.59s/it]\u001b[A\n",
            " 89%|████████▉ | 201/225 [36:57<22:41, 56.73s/it]\u001b[A\n",
            " 90%|████████▉ | 202/225 [37:09<16:37, 43.37s/it]\u001b[A\n",
            " 90%|█████████ | 203/225 [43:06<50:19, 137.23s/it]\u001b[A\n",
            " 91%|█████████ | 204/225 [43:18<34:55, 99.77s/it] \u001b[A\n",
            " 91%|█████████ | 205/225 [46:14<40:55, 122.76s/it]\u001b[A\n",
            " 92%|█████████▏| 206/225 [53:07<1:06:23, 209.68s/it]\u001b[A\n",
            " 92%|█████████▏| 207/225 [55:07<54:49, 182.73s/it]  \u001b[A\n",
            " 92%|█████████▏| 208/225 [1:12:30<2:04:54, 440.86s/it]\u001b[A\n",
            " 93%|█████████▎| 209/225 [1:12:45<1:23:31, 313.24s/it]\u001b[A\n",
            " 93%|█████████▎| 210/225 [1:16:29<1:11:33, 286.23s/it]\u001b[A\n",
            " 94%|█████████▍| 211/225 [1:25:42<1:25:30, 366.47s/it]\u001b[A\n",
            " 94%|█████████▍| 212/225 [1:25:57<56:31, 260.91s/it]  \u001b[A\n",
            " 95%|█████████▍| 213/225 [1:26:03<36:54, 184.57s/it]\u001b[A\n",
            " 95%|█████████▌| 214/225 [1:38:53<1:06:00, 360.08s/it]\u001b[A\n",
            " 96%|█████████▌| 215/225 [1:39:22<43:28, 260.83s/it]  \u001b[A\n",
            " 96%|█████████▌| 216/225 [1:41:06<32:04, 213.81s/it]\u001b[A\n",
            " 96%|█████████▋| 217/225 [1:41:35<21:05, 158.15s/it]\u001b[A\n",
            " 97%|█████████▋| 218/225 [1:46:36<23:26, 200.99s/it]\u001b[A\n",
            " 97%|█████████▋| 219/225 [1:46:50<14:30, 145.12s/it]\u001b[A\n",
            " 98%|█████████▊| 220/225 [1:46:55<08:35, 103.07s/it]\u001b[A\n",
            " 98%|█████████▊| 221/225 [1:47:02<04:57, 74.26s/it] \u001b[A\n",
            " 99%|█████████▊| 222/225 [1:47:08<02:41, 53.78s/it]\u001b[A\n",
            " 99%|█████████▉| 223/225 [1:47:19<01:21, 40.71s/it]\u001b[A\n",
            "100%|█████████▉| 224/225 [1:47:34<00:33, 33.10s/it]\u001b[A\n",
            "100%|██████████| 225/225 [1:47:40<00:00, 28.71s/it]\n"
          ],
          "name": "stderr"
        }
      ]
    }
  ]
}