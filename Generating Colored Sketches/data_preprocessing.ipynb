{
  "nbformat": 4,
  "nbformat_minor": 0,
  "metadata": {
    "colab": {
      "name": "data_preprocessing.ipynb",
      "provenance": []
    },
    "kernelspec": {
      "name": "python3",
      "display_name": "Python 3"
    },
    "language_info": {
      "name": "python"
    }
  },
  "cells": [
    {
      "cell_type": "markdown",
      "metadata": {
        "id": "DCpNFUq_Sjy3"
      },
      "source": [
        "## DATA PREPROCESSING"
      ]
    },
    {
      "cell_type": "markdown",
      "metadata": {
        "id": "iPKJAqO3R4GM"
      },
      "source": [
        "Creating lists and paths"
      ]
    },
    {
      "cell_type": "code",
      "metadata": {
        "id": "9wnEGC0iyA-2"
      },
      "source": [
        "import cv2 as cv\n",
        "import os\n",
        "\n",
        "img_path='/content/drive/MyDrive/image/'\n",
        "sketch_path='/content/drive/MyDrive/sketch-rendered1/width-3/'\n",
        "final_path='/content/drive/MyDrive/colored_sketches/width-3/'\n",
        "\n",
        "\n",
        "\n",
        "img=os.listdir(img_path)\n",
        "img.sort()\n",
        "sketch=os.listdir(sketch_path)\n",
        "sketch.sort()\n"
      ],
      "execution_count": 5,
      "outputs": []
    },
    {
      "cell_type": "code",
      "metadata": {
        "id": "a8pFnxd12mtU"
      },
      "source": [
        "img_list=[]\n",
        "sketch_list=[]\n",
        "final_list=[]\n",
        "for filename in img:\n",
        "        j=os.path.join(img_path, filename)\n",
        "        img_list.append(j)\n",
        "\n",
        "for filename in sketch:\n",
        "  k=os.path.join(sketch_path, filename)\n",
        "  sketch_list.append(k)\n",
        "\n",
        "for filename in img:\n",
        "        m=os.path.join(final_path, filename)\n",
        "        final_list.append(m)\n",
        "        "
      ],
      "execution_count": null,
      "outputs": []
    },
    {
      "cell_type": "markdown",
      "metadata": {
        "id": "66QeWjomQ67v"
      },
      "source": [
        "Colorspace Manipulation"
      ]
    },
    {
      "cell_type": "code",
      "metadata": {
        "id": "ZtuAKLDt5btw"
      },
      "source": [
        "for i in range(0,1000):\n",
        "  image=cv.imread(img_list[i])\n",
        "  sketch=cv.imread(sketch_list[i*5])\n",
        "\n",
        "  #resizing sketches to original image size\n",
        "  width = image.shape[1] \n",
        "  height = image.shape[0]\n",
        "  sketch_resize = cv.resize(sketch, (width,height))\n",
        "\n",
        "  #LAB colorspace manipulation\n",
        "  image_lab = cv.cvtColor(image, cv.COLOR_RGB2LAB)\n",
        "  l1,a1,b1 = cv.split(image_lab)\n",
        "  \n",
        "  sketch_lab = cv.cvtColor(sketch_resize, cv.COLOR_RGB2LAB)\n",
        "  l2,a2,b2 = cv.split(sketch_lab)\n",
        "    \n",
        "  final=cv.merge((l2,a1,b1))\n",
        "  final_rgb=cv.cvtColor(final, cv.COLOR_LAB2RGB)\n",
        "\n",
        "  #multiple by a factor of 1.8 to change the saturation\n",
        "  hsvImg=cv.cvtColor(final_rgb, cv.COLOR_RGB2HSV)\n",
        "  hsvImg[...,1] = hsvImg[...,1]*1.8\n",
        "  color_sketch=cv.cvtColor(hsvImg,cv.COLOR_HSV2RGB)\n",
        "\n",
        "  cv.imwrite(final_list[i],color_sketch)\n"
      ],
      "execution_count": null,
      "outputs": []
    }
  ]
}